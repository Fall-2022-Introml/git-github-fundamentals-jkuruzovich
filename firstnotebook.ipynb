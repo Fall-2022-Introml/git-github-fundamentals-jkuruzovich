{
 "cells": [
  {
   "cell_type": "markdown",
   "id": "57d5d44f-48a5-4e3f-a7e5-292efedf8a28",
   "metadata": {},
   "source": [
    "# This is my first notebook\n"
   ]
  },
  {
   "cell_type": "code",
   "execution_count": null,
   "id": "9a7421f6-b525-4099-96f4-1c314678babd",
   "metadata": {},
   "outputs": [],
   "source": []
  },
  {
   "cell_type": "code",
   "execution_count": 1,
   "id": "e2e063b3-e37d-49e3-891f-c43aa4a94f43",
   "metadata": {},
   "outputs": [],
   "source": [
    "variable = 5+ 5"
   ]
  },
  {
   "cell_type": "code",
   "execution_count": 2,
   "id": "3ab2166b-4d5e-457a-a17d-7d5ed535b336",
   "metadata": {},
   "outputs": [
    {
     "name": "stdout",
     "output_type": "stream",
     "text": [
      "10\n"
     ]
    }
   ],
   "source": [
    "print(variable)"
   ]
  },
  {
   "cell_type": "code",
   "execution_count": null,
   "id": "9f133730-45f5-4fa6-aa9a-2247daa1fbb4",
   "metadata": {},
   "outputs": [],
   "source": []
  }
 ],
 "metadata": {
  "kernelspec": {
   "display_name": "Python 3",
   "language": "python",
   "name": "python3"
  },
  "language_info": {
   "codemirror_mode": {
    "name": "ipython",
    "version": 3
   },
   "file_extension": ".py",
   "mimetype": "text/x-python",
   "name": "python",
   "nbconvert_exporter": "python",
   "pygments_lexer": "ipython3",
   "version": "3.7.10"
  }
 },
 "nbformat": 4,
 "nbformat_minor": 5
}
